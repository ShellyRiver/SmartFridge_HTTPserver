{
 "cells": [
  {
   "cell_type": "code",
   "execution_count": 1,
   "id": "be89470f",
   "metadata": {},
   "outputs": [],
   "source": [
    "from http.server import BaseHTTPRequestHandler, HTTPServer\n",
    "import json\n",
    "import cgi"
   ]
  },
  {
   "cell_type": "code",
   "execution_count": 2,
   "id": "ab8a995c",
   "metadata": {},
   "outputs": [],
   "source": [
    "# hardcode list of items\n",
    "items = [\n",
    "    {\n",
    "        \"type\": \"apple\",\n",
    "        \"in_time\": \"2022-11-11\",\n",
    "        \"expire_dates\": 30,\n",
    "        \"level\": 1,\n",
    "        \"status\": 1\n",
    "    },\n",
    "    {\n",
    "        \"type\": \"banana\",\n",
    "        \"in_time\": \"2022-11-20\",\n",
    "        \"expire_dates\": 5,\n",
    "        \"level\": 1,\n",
    "        \"status\": 0\n",
    "    },\n",
    "    {\n",
    "        \"type\": \"tomato\",\n",
    "        \"in_time\": \"2022-11-15\",\n",
    "        \"expire_dates\": 12,\n",
    "        \"level\": 2,\n",
    "        \"status\": -1\n",
    "    },\n",
    "    {\n",
    "        \"type\": \"broccoli\",\n",
    "        \"in_time\": \"2022-11-25\",\n",
    "        \"expire_dates\": 10,\n",
    "        \"level\": 2,\n",
    "        \"status\": 1\n",
    "    },\n",
    "    {\n",
    "        \"type\": \"orange\",\n",
    "        \"in_time\": \"2022-11-25\",\n",
    "        \"expire_dates\": 10,\n",
    "        \"level\": 2,\n",
    "        \"status\": -1\n",
    "    },\n",
    "    {\n",
    "        \"type\": \"green pepper\",\n",
    "        \"in_time\": \"2022-11-25\",\n",
    "        \"expire_dates\": 10,\n",
    "        \"level\": 2,\n",
    "        \"status\": 0\n",
    "    }\n",
    "]"
   ]
  },
  {
   "cell_type": "code",
   "execution_count": 3,
   "id": "12f5b868",
   "metadata": {},
   "outputs": [],
   "source": [
    "class GP(BaseHTTPRequestHandler):\n",
    "    def _set_headers(self):\n",
    "        self.send_response(200)\n",
    "        self.send_header('Content-type', 'text/html')\n",
    "        self.end_headers()\n",
    "    def do_HEAD(self):\n",
    "        self._set_headers()\n",
    "    def do_GET(self):\n",
    "        self._set_headers()\n",
    "        print(self.path)\n",
    "#         print(json.dumps(self.path[2:]))\n",
    "        self.wfile.write(bytes(json.dumps(items), encoding='utf-8'))\n",
    "    def do_POST(self):\n",
    "        self._set_headers()\n",
    "        form = cgi.FieldStorage(\n",
    "            fp=self.rfile,\n",
    "            headers=self.headers,\n",
    "            environ={'REQUEST_METHOD': 'POST'}\n",
    "        )\n",
    "        print(form.getvalue(\"foo\"))\n",
    "        print(form.getvalue(\"bin\"))\n",
    "        self.wfile.write(\"<html><body><h1>POST Request Received!</h1></body></html>\")\n"
   ]
  },
  {
   "cell_type": "code",
   "execution_count": null,
   "id": "3593ee3d",
   "metadata": {},
   "outputs": [
    {
     "name": "stderr",
     "output_type": "stream",
     "text": [
      "192.168.137.1 - - [27/Nov/2022 23:41:53] \"GET / HTTP/1.1\" 200 -\n"
     ]
    },
    {
     "name": "stdout",
     "output_type": "stream",
     "text": [
      "/\n"
     ]
    },
    {
     "name": "stderr",
     "output_type": "stream",
     "text": [
      "192.168.137.1 - - [27/Nov/2022 23:42:03] \"GET / HTTP/1.1\" 200 -\n"
     ]
    },
    {
     "name": "stdout",
     "output_type": "stream",
     "text": [
      "/\n"
     ]
    },
    {
     "name": "stderr",
     "output_type": "stream",
     "text": [
      "192.168.137.1 - - [27/Nov/2022 23:42:38] \"GET / HTTP/1.1\" 200 -\n"
     ]
    },
    {
     "name": "stdout",
     "output_type": "stream",
     "text": [
      "/\n"
     ]
    }
   ],
   "source": [
    "# ip address of the server, use ifconfig or ipconfig command to get ip\n",
    "IP_address = '192.168.137.1'\n",
    "port = 8080\n",
    "httpd = HTTPServer((IP_address, port), GP)\n",
    "httpd.serve_forever()"
   ]
  },
  {
   "cell_type": "code",
   "execution_count": null,
   "id": "7805e11e",
   "metadata": {},
   "outputs": [],
   "source": []
  }
 ],
 "metadata": {
  "kernelspec": {
   "display_name": "Python 3",
   "language": "python",
   "name": "python3"
  },
  "language_info": {
   "codemirror_mode": {
    "name": "ipython",
    "version": 3
   },
   "file_extension": ".py",
   "mimetype": "text/x-python",
   "name": "python",
   "nbconvert_exporter": "python",
   "pygments_lexer": "ipython3",
   "version": "3.8.8"
  }
 },
 "nbformat": 4,
 "nbformat_minor": 5
}
